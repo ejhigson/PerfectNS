{
 "cells": [
  {
   "cell_type": "markdown",
   "metadata": {},
   "source": [
    "# Parameter logX Diagrams\n",
    "\n",
    "Notebook to demonstraight plotting nested sampling parameter estimation diagrams of the type presented in Section 3 of [Higson (2017)](https://doi.org/10.1214/17-BA1075 '\"Sampling Errors in Nested Sampling Parameter Estimation\", Higson et al. 2017') (see the paper for more details)."
   ]
  },
  {
   "cell_type": "code",
   "execution_count": null,
   "metadata": {
    "collapsed": false
   },
   "outputs": [],
   "source": [
    "import matplotlib\n",
    "import perfectns.priors\n",
    "import perfectns.likelihoods\n",
    "import perfectns.settings\n",
    "import perfectns.estimators as e\n",
    "import perfectns.plots\n",
    "%matplotlib inline\n",
    "matplotlib.rc('text', usetex=True)\n",
    "\n",
    "# settings\n",
    "settings = perfectns.settings.PerfectNSSettings()\n",
    "settings.n_dim = 5\n",
    "settings.prior = perfectns.priors.Gaussian(10)\n",
    "logx_min = -16\n",
    "fig_list = []\n",
    "\n",
    "# Paper Figure 3a)\n",
    "settings.likelihood = perfectns.likelihoods.Gaussian(1)\n",
    "fig_list.append(perfectns.plots.plot_parameter_logx_diagram(settings, e.ParamMean(), logx_min=logx_min))\n",
    "# Paper Figure 3b)\n",
    "settings.likelihood = perfectns.likelihoods.Cauchy(1)\n",
    "fig_list.append(perfectns.plots.plot_parameter_logx_diagram(settings, e.ParamMean(), logx_min=logx_min))\n",
    "# Paper Figure 3c)\n",
    "settings.likelihood = perfectns.likelihoods.Gaussian(1)\n",
    "settings.n_dim=3\n",
    "fig_list.append(perfectns.plots.plot_parameter_logx_diagram(settings, e.ParamMean(), logx_min=logx_min))\n",
    "# Paper Figure 3d)\n",
    "fig_list.append(perfectns.plots.plot_parameter_logx_diagram(settings, e.ParamSquaredMean(), logx_min=logx_min))\n",
    "# Paper Figure 3e)\n",
    "fig_list.append(perfectns.plots.plot_parameter_logx_diagram(settings, e.RMean(), logx_min=logx_min))"
   ]
  }
 ],
 "metadata": {
  "kernelspec": {
   "display_name": "Python 3",
   "language": "python",
   "name": "python3"
  },
  "language_info": {
   "codemirror_mode": {
    "name": "ipython",
    "version": 3
   },
   "file_extension": ".py",
   "mimetype": "text/x-python",
   "name": "python",
   "nbconvert_exporter": "python",
   "pygments_lexer": "ipython3",
   "version": "3.5.3"
  }
 },
 "nbformat": 4,
 "nbformat_minor": 2
}
